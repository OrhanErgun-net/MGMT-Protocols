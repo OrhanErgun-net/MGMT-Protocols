{
 "cells": [
  {
   "cell_type": "markdown",
   "id": "ac113f87-70d4-4b08-84b7-66323cb1b5c1",
   "metadata": {},
   "source": [
    "# NETCONF"
   ]
  },
  {
   "cell_type": "markdown",
   "id": "4686c253",
   "metadata": {},
   "source": [
    "## Using the CLI"
   ]
  },
  {
   "cell_type": "code",
   "execution_count": null,
   "id": "0cbe17b4",
   "metadata": {
    "vscode": {
     "languageId": "shellscript"
    }
   },
   "outputs": [],
   "source": [
    "# Establish conncetion to the server\n",
    "ssh username@ipaddress -p 830 -s netconf"
   ]
  },
  {
   "cell_type": "code",
   "execution_count": null,
   "id": "b52a9c09",
   "metadata": {
    "vscode": {
     "languageId": "shellscript"
    }
   },
   "outputs": [],
   "source": [
    "<?xml version=\"1.0\" encoding=\"UTF-8\"?>\n",
    "  <hello xmlns=\"urn:ietf:params:xml:ns:netconf:base:1.0\">\n",
    "    <capabilities>\n",
    "      <capability>urn:ietf:params:netconf:base:1.0</capability>\n",
    "    </capabilities>\n",
    "  </hello>]]>]]>"
   ]
  },
  {
   "cell_type": "code",
   "execution_count": null,
   "id": "d96cf67a",
   "metadata": {
    "vscode": {
     "languageId": "shellscript"
    }
   },
   "outputs": [],
   "source": [
    "# Close the session\n",
    "<?xml version=\"1.0\" encoding=\"UTF-8\"?>\n",
    "  <rpc message-id=\"1239123\" xmlns=\"urn:ietf:params:xml:ns:netconf:base:1.0\">\n",
    "    <close-session />\n",
    "  </rpc>\n",
    "]]>]]>"
   ]
  },
  {
   "cell_type": "markdown",
   "id": "4f0f1d36",
   "metadata": {},
   "source": [
    "## Using ncclient"
   ]
  },
  {
   "cell_type": "markdown",
   "id": "7b5645c1",
   "metadata": {},
   "source": [
    "### Methods"
   ]
  },
  {
   "cell_type": "code",
   "execution_count": null,
   "id": "b0eac2af",
   "metadata": {},
   "outputs": [],
   "source": [
    "# Getting the list of supported YANG models\n",
    "from ncclient import manager\n",
    "from lxml import etree\n",
    "\n",
    "HOST = '10.10.20.48'\n",
    "PORT = 830\n",
    "USER = 'developer'\n",
    "PASS = 'C1sco12345'\n",
    "\n",
    "with manager.connect(host=HOST, port=PORT, username=USER, \n",
    "                     password=PASS, hostkey_verify=False) as m:\n",
    "    schemas = m.server_capabilities\n",
    "    for schema in schemas:\n",
    "        print(schema)"
   ]
  },
  {
   "cell_type": "code",
   "execution_count": null,
   "id": "72fce725",
   "metadata": {},
   "outputs": [],
   "source": [
    "# Getting the list of supported YANG models\n",
    "from ncclient import manager\n",
    "from lxml import etree\n",
    "\n",
    "device = {\n",
    "    'host': '10.10.20.48',\n",
    "    'port': 830,\n",
    "    'username': 'developer',\n",
    "    'password': 'C1sco12345',\n",
    "}\n",
    "\n",
    "with manager.connect(**device, hostkey_verify=False) as m:\n",
    "    schemas = m.server_capabilities\n",
    "    for schema in schemas:\n",
    "        print(schema)"
   ]
  },
  {
   "cell_type": "code",
   "execution_count": null,
   "id": "fcfdda5f",
   "metadata": {},
   "outputs": [],
   "source": [
    "# Getting the OSPF operational data\n",
    "from ncclient import manager\n",
    "from lxml import etree\n",
    "# from pprint import pprint\n",
    "\n",
    "device = {\n",
    "    'host': '10.10.20.48',\n",
    "    'port': 830,\n",
    "    'username': 'developer',\n",
    "    'password': 'C1sco12345',\n",
    "}\n",
    "\n",
    "# Create the NETCONF filter\n",
    "filter_ospf = \"\"\"\n",
    "<ospf-oper-data xmlns=\"http://cisco.com/ns/yang/Cisco-IOS-XE-ospf-oper\">\n",
    "</ospf-oper-data>\n",
    "\"\"\"\n",
    "\n",
    "with manager.connect(**device, hostkey_verify=False) as m:\n",
    "    result = m.get(filter=('subtree', etree.fromstring(filter_ospf)))\n",
    "    print(result.xml)"
   ]
  },
  {
   "cell_type": "code",
   "execution_count": null,
   "id": "980c0f8f",
   "metadata": {},
   "outputs": [],
   "source": [
    "# Hierarchical XML output\n",
    "from ncclient import manager\n",
    "from lxml import etree\n",
    "from xml.dom.minidom import parseString\n",
    "\n",
    "device = {\n",
    "    'host': '10.10.20.48',\n",
    "    'port': 830,\n",
    "    'username': 'developer',\n",
    "    'password': 'C1sco12345',\n",
    "}\n",
    "\n",
    "# Create the NETCONF filter\n",
    "filter_ospf = \"\"\"\n",
    "<ospf-oper-data xmlns=\"http://cisco.com/ns/yang/Cisco-IOS-XE-ospf-oper\">\n",
    "</ospf-oper-data>\n",
    "\"\"\"\n",
    "\n",
    "with manager.connect(**device, hostkey_verify=False) as m:\n",
    "    response = m.get(('subtree', filter_ospf))\n",
    "    print(etree.tostring(response.data_ele, pretty_print=True).decode())"
   ]
  },
  {
   "cell_type": "code",
   "execution_count": null,
   "id": "5f1a3bcd",
   "metadata": {},
   "outputs": [],
   "source": [
    "from ncclient import manager\n",
    "from lxml import etree\n",
    "from rich import print\n",
    "\n",
    "device = {\n",
    "    'host': '10.10.20.48',\n",
    "    'port': 830,\n",
    "    'username': 'developer',\n",
    "    'password': 'C1sco12345',\n",
    "}\n",
    "\n",
    "filter_ospf = \"\"\"\n",
    "<ospf-oper-data xmlns=\"http://cisco.com/ns/yang/Cisco-IOS-XE-ospf-oper\">\n",
    "    <ospf-state>\n",
    "        <ospf-instance>\n",
    "            <af>address-family-ipv4</af>\n",
    "            <router-id>167772161</router-id>\n",
    "        </ospf-instance>\n",
    "    </ospf-state>\n",
    "</ospf-oper-data>\n",
    "\"\"\"\n",
    "\n",
    "with manager.connect(**device, hostkey_verify=False) as m:\n",
    "    response = m.get(('subtree', filter_ospf))\n",
    "    print(etree.tostring(response.data_ele, pretty_print=True).decode())"
   ]
  },
  {
   "cell_type": "code",
   "execution_count": null,
   "id": "58094e31",
   "metadata": {},
   "outputs": [],
   "source": [
    "# Getting the interface info\n",
    "from ncclient import manager\n",
    "from lxml import etree\n",
    "\n",
    "device = {\n",
    "    'host': '10.10.20.48',\n",
    "    'port': 830,\n",
    "    'username': 'developer',\n",
    "    'password': 'C1sco12345',\n",
    "}\n",
    "\n",
    "# Create the NETCONF filter for the interface GigabitEthernet1\n",
    "filter_str = \"\"\"\n",
    "<interfaces xmlns=\"urn:ietf:params:xml:ns:yang:ietf-interfaces\">\n",
    "  <interface>\n",
    "    <name>GigabitEthernet1</name>\n",
    "  </interface>\n",
    "</interfaces>\n",
    "\"\"\"\n",
    "\n",
    "with manager.connect(**device, hostkey_verify=False) as m:\n",
    "    response = m.get(('subtree', filter_str))\n",
    "    print(etree.tostring(response.data_ele, pretty_print=True).decode())"
   ]
  },
  {
   "cell_type": "code",
   "execution_count": null,
   "id": "3ddc7885",
   "metadata": {},
   "outputs": [],
   "source": [
    "# Retrieving the running configuration\n",
    "from ncclient import manager\n",
    "from lxml import etree\n",
    "\n",
    "device = {\n",
    "    'host': '10.10.20.48',\n",
    "    'port': 830,\n",
    "    'username': 'developer',\n",
    "    'password': 'C1sco12345',\n",
    "}\n",
    "\n",
    "with manager.connect(**device, hostkey_verify=False) as m:\n",
    "    running_config = m.get_config('running')\n",
    "    print(running_config)"
   ]
  },
  {
   "cell_type": "code",
   "execution_count": null,
   "id": "c056b3f0",
   "metadata": {},
   "outputs": [],
   "source": [
    "# Better-looking output\n",
    "from ncclient import manager\n",
    "from lxml import etree\n",
    "from xml.dom.minidom import parseString\n",
    "\n",
    "device = {\n",
    "    'host': '10.10.20.48',\n",
    "    'port': 830,\n",
    "    'username': 'developer',\n",
    "    'password': 'C1sco12345',\n",
    "}\n",
    "\n",
    "with manager.connect(**device, hostkey_verify=False) as m:\n",
    "    running_config = m.get_config('running')\n",
    "    xml = parseString(str(running_config))\n",
    "    pretty_xml = xml.toprettyxml()\n",
    "    \n",
    "    print(pretty_xml)"
   ]
  },
  {
   "cell_type": "code",
   "execution_count": null,
   "id": "6a689b33",
   "metadata": {},
   "outputs": [],
   "source": [
    "# Configuring the device\n",
    "from ncclient import manager\n",
    "from ncclient.transport.errors import AuthenticationError, SessionCloseError\n",
    "\n",
    "device = {\n",
    "    'host': '10.10.20.48',\n",
    "    'port': 830,\n",
    "    'username': 'developer',\n",
    "    'password': 'C1sco12345',\n",
    "}\n",
    "\n",
    "# Define the NETCONF config data to be added to the device\n",
    "config_data = \"\"\"\n",
    "<config xmlns=\"urn:ietf:params:xml:ns:netconf:base:1.0\">\n",
    "    <native xmlns=\"http://cisco.com/ns/yang/Cisco-IOS-XE-native\">\n",
    "        <interface>\n",
    "            <Loopback>\n",
    "                <name>10</name>\n",
    "                <description>My loopback interface</description>\n",
    "            </Loopback>\n",
    "        </interface>\n",
    "    </native>\n",
    "</config>\n",
    "\"\"\"\n",
    "\n",
    "# Create a NETCONF session to the device\n",
    "try:\n",
    "    with manager.connect(**device, hostkey_verify=False) as m:\n",
    "        response = m.edit_config(target='running', config=config_data)\n",
    "        print(response)\n",
    "except AuthenticationError as auth_err:\n",
    "    print(f\"Authentication failed: {auth_err}\")\n",
    "except SessionCloseError as close_err:\n",
    "    print(f\"Session close error: {close_err}\")\n",
    "except Exception as e:\n",
    "    print(f\"An error occurred: {e}\")"
   ]
  },
  {
   "cell_type": "code",
   "execution_count": null,
   "id": "53c3d1fc",
   "metadata": {},
   "outputs": [],
   "source": [
    "# Additional methods\n",
    "\"\"\"\n",
    "copy_config(target='running', source='running')\n",
    "delete_config(target='running')\n",
    "lock(target='running')\n",
    "unlock(target='running')\n",
    "close_session()\n",
    "kill_session(session_id)\n",
    "\"\"\""
   ]
  },
  {
   "cell_type": "markdown",
   "id": "f42249ea",
   "metadata": {},
   "source": [
    "# RESTCONF"
   ]
  },
  {
   "cell_type": "markdown",
   "id": "ddda1fe5",
   "metadata": {},
   "source": [
    "## Using Postman"
   ]
  },
  {
   "cell_type": "markdown",
   "id": "785750e5",
   "metadata": {},
   "source": [
    "### GET"
   ]
  },
  {
   "cell_type": "markdown",
   "id": "25d63969",
   "metadata": {},
   "source": [
    "https://10.10.20.48/restconf"
   ]
  },
  {
   "cell_type": "markdown",
   "id": "4c8581c6",
   "metadata": {},
   "source": [
    "https://10.10.20.48/restconf/data/ietf-interfaces:interfaces"
   ]
  },
  {
   "cell_type": "markdown",
   "id": "4a6ebbba",
   "metadata": {},
   "source": [
    "https://10.10.20.48/restconf/data/ietf-yang-library:modules-state"
   ]
  },
  {
   "cell_type": "markdown",
   "id": "6cf5c270",
   "metadata": {},
   "source": [
    "### POST"
   ]
  },
  {
   "cell_type": "markdown",
   "id": "832cdba4",
   "metadata": {},
   "source": [
    "https://10.10.20.48/restconf/data/ietf-interfaces:interfaces"
   ]
  },
  {
   "cell_type": "code",
   "execution_count": null,
   "id": "4be88e43",
   "metadata": {},
   "outputs": [],
   "source": [
    "\"\"\"\n",
    "{\n",
    "    \"ietf-interfaces:interface\": {\n",
    "        \"name\": \"Loopback57\",\n",
    "        \"description\": \"COnfigured by RESTCONF\",\n",
    "        \"type\": \"softwareLoopback\",\n",
    "        \"enabled\": true,\n",
    "        \"ietf-ip:ipv4\": {\n",
    "            \"address\": [\n",
    "                {\n",
    "                    \"ip\": \"10.255.255.1\",\n",
    "                    \"netmask\": \"255.255.255.0\"\n",
    "                }\n",
    "            ]\n",
    "        }\n",
    "    }\n",
    "}\n",
    "\"\"\""
   ]
  },
  {
   "cell_type": "markdown",
   "id": "c9499809",
   "metadata": {},
   "source": [
    "### PUT"
   ]
  },
  {
   "cell_type": "markdown",
   "id": "e9cd4e4d",
   "metadata": {},
   "source": [
    "https://10.10.20.48/restconf/data/ietf-interfaces:interfaces/interface=Loopback100"
   ]
  },
  {
   "cell_type": "code",
   "execution_count": null,
   "id": "6c3612f2",
   "metadata": {},
   "outputs": [],
   "source": [
    "\"\"\"\n",
    " {\n",
    "     \"ietf-interfaces:interface\": {\n",
    "         \"name\": \"Loopback100\",\n",
    "         \"description\": \"COnfigured by RESTCONF\",\n",
    "         \"type\": \"softwareLoopback\",\n",
    "         \"enabled\": true,\n",
    "         \"ietf-ip:ipv4\": {\n",
    "             \"address\": [\n",
    "                 {\n",
    "                     \"ip\": \"10.255.255.1\",\n",
    "                     \"netmask\": \"255.255.255.0\"\n",
    "                 }\n",
    "             ]\n",
    "         }\n",
    "     }\n",
    " }\n",
    "\"\"\""
   ]
  },
  {
   "cell_type": "markdown",
   "id": "3b293435",
   "metadata": {},
   "source": [
    "### DELETE"
   ]
  },
  {
   "cell_type": "markdown",
   "id": "be81c40f",
   "metadata": {},
   "source": [
    "https://10.10.20.48/restconf/data/ietf-interfaces:interfaces/interface=Loopback100"
   ]
  },
  {
   "cell_type": "markdown",
   "id": "446bf100",
   "metadata": {},
   "source": [
    "## Using Python"
   ]
  },
  {
   "cell_type": "code",
   "execution_count": null,
   "id": "69521732",
   "metadata": {},
   "outputs": [],
   "source": [
    "# GET\n",
    "import requests\n",
    "\n",
    "try:\n",
    "    uri = 'https://10.10.20.48/restconf'\n",
    "    request = requests.get(uri, auth=('developer', 'C1sco12345'), verify=False)\n",
    "    print(request.text)\n",
    "except Exception as e:\n",
    "    print(str(e))"
   ]
  },
  {
   "cell_type": "code",
   "execution_count": null,
   "id": "7c8069e5",
   "metadata": {},
   "outputs": [],
   "source": [
    "# GET\n",
    "import requests\n",
    "\n",
    "uri = \"https://10.10.20.48/restconf/data/Cisco-IOS-XE-ospf-oper:ospf-oper-data\"\n",
    "headers = {\"Accept\": \"application/yang-data+json\"}\n",
    "\n",
    "request = requests.get(uri, auth=(\"developer\", \"C1sco12345\"), headers=headers, verify=False)\n",
    "\n",
    "print(request.text)"
   ]
  },
  {
   "cell_type": "code",
   "execution_count": null,
   "id": "83f7dc88",
   "metadata": {},
   "outputs": [],
   "source": [
    "# POST\n",
    "import requests\n",
    "import json\n",
    "\n",
    "url = 'https://10.10.20.48/restconf/data/ietf-interfaces:interfaces'\n",
    "headers = {'Content-Type': 'application/yang-data+json'}\n",
    "\n",
    "data = {\n",
    "    \"ietf-interfaces:interface\": {\n",
    "        \"name\": \"Loopback9\",\n",
    "        \"description\": \"Added with RESTCONF\",\n",
    "        \"type\": \"softwareLoopback\", # Change to ethernetCsmacd to create a GigabitEthernet interface\n",
    "        \"enabled\": True,\n",
    "        \"ietf-ip:ipv4\": {\n",
    "            \"address\": [\n",
    "                {\n",
    "                    \"ip\": \"99.99.99.99\",\n",
    "                    \"netmask\": \"255.255.255.255\"\n",
    "                }\n",
    "            ]\n",
    "        }\n",
    "    }\n",
    "}\n",
    "\n",
    "response = requests.post(url, headers=headers, data=json.dumps(data), auth=('developer', 'C1sco12345'), verify=False)\n",
    "\n",
    "if response.status_code == 200:\n",
    "    print('POST request successful')\n",
    "else:\n",
    "    print('POST request failed with status code:', response.status_code)"
   ]
  },
  {
   "cell_type": "code",
   "execution_count": null,
   "id": "87edfaff",
   "metadata": {},
   "outputs": [],
   "source": [
    "# PUT\n",
    "import requests\n",
    "import json\n",
    "\n",
    "url = 'https://10.10.20.48/restconf/data/ietf-interfaces:interfaces/interface=Loopback9'\n",
    "headers = {'Content-Type': 'application/yang-data+json'}\n",
    "\n",
    "data = {\n",
    "    \"ietf-interfaces:interface\": {\n",
    "        \"name\": \"Loopback9\",\n",
    "        \"description\": \"Added with RESTCONF\",\n",
    "        \"type\": \"iana-if-type:softwareLoopback\",\n",
    "        \"enabled\": True,\n",
    "        \"ietf-ip:ipv4\": {\n",
    "            \"address\": [\n",
    "                {\n",
    "                    \"ip\": \"99.99.99.99\",\n",
    "                    \"netmask\": \"255.255.255.255\"\n",
    "                }\n",
    "            ]\n",
    "        }\n",
    "    }\n",
    "}\n",
    "\n",
    "response = requests.put(url, headers=headers, data=json.dumps(data), auth=('developer', 'C1sco12345'), verify=False)\n",
    "\n",
    "if response.status_code == 200:\n",
    "    print('POST request successful')\n",
    "else:\n",
    "    print('POST request failed with status code:', response.status_code)"
   ]
  },
  {
   "cell_type": "code",
   "execution_count": null,
   "id": "887695af",
   "metadata": {},
   "outputs": [],
   "source": [
    "# DELETE\n",
    "import requests\n",
    "import json\n",
    "\n",
    "url = 'https://10.10.20.48/restconf/data/ietf-interfaces:interfaces/interface=Loopback109'\n",
    "headers = {'Content-Type': 'application/yang-data+json'}\n",
    "\n",
    "response = requests.delete(url, auth=('developer', 'C1sco12345'), headers=headers, verify=False)\n",
    "\n",
    "print(response.status_code)"
   ]
  }
 ],
 "metadata": {
  "kernelspec": {
   "display_name": "Python 3 (ipykernel)",
   "language": "python",
   "name": "python3"
  },
  "language_info": {
   "codemirror_mode": {
    "name": "ipython",
    "version": 3
   },
   "file_extension": ".py",
   "mimetype": "text/x-python",
   "name": "python",
   "nbconvert_exporter": "python",
   "pygments_lexer": "ipython3",
   "version": "3.11.4"
  }
 },
 "nbformat": 4,
 "nbformat_minor": 5
}

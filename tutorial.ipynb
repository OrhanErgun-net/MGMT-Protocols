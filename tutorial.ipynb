{
 "cells": [
  {
   "cell_type": "markdown",
   "id": "ac113f87-70d4-4b08-84b7-66323cb1b5c1",
   "metadata": {},
   "source": [
    "# NETCONF"
   ]
  },
  {
   "cell_type": "markdown",
   "id": "4686c253",
   "metadata": {},
   "source": [
    "## Using the CLI"
   ]
  },
  {
   "cell_type": "code",
   "execution_count": null,
   "id": "0cbe17b4",
   "metadata": {
    "vscode": {
     "languageId": "shellscript"
    }
   },
   "outputs": [],
   "source": [
    "# Establish conncetion to the server\n",
    "ssh username@ipaddress -p 830 -s netconf"
   ]
  },
  {
   "cell_type": "code",
   "execution_count": null,
   "id": "b52a9c09",
   "metadata": {
    "vscode": {
     "languageId": "shellscript"
    }
   },
   "outputs": [],
   "source": [
    "<?xml version=\"1.0\" encoding=\"UTF-8\"?>\n",
    "  <hello xmlns=\"urn:ietf:params:xml:ns:netconf:base:1.0\">\n",
    "    <capabilities>\n",
    "      <capability>urn:ietf:params:netconf:base:1.0</capability>\n",
    "    </capabilities>\n",
    "  </hello>]]>]]>"
   ]
  },
  {
   "cell_type": "code",
   "execution_count": null,
   "id": "d96cf67a",
   "metadata": {
    "vscode": {
     "languageId": "shellscript"
    }
   },
   "outputs": [],
   "source": [
    "# Close the session\n",
    "<?xml version=\"1.0\" encoding=\"UTF-8\"?>\n",
    "  <rpc message-id=\"1239123\" xmlns=\"urn:ietf:params:xml:ns:netconf:base:1.0\">\n",
    "    <close-session />\n",
    "  </rpc>\n",
    "]]>]]>"
   ]
  },
  {
   "cell_type": "markdown",
   "id": "4f0f1d36",
   "metadata": {},
   "source": [
    "## Using ncclient"
   ]
  },
  {
   "cell_type": "markdown",
   "id": "7b5645c1",
   "metadata": {},
   "source": [
    "### Methods"
   ]
  },
  {
   "cell_type": "code",
   "execution_count": null,
   "id": "b0eac2af",
   "metadata": {},
   "outputs": [],
   "source": [
    "from ncclient import manager\n",
    "from lxml import etree\n",
    "\n",
    "# Replace these variables with your device's details\n",
    "HOST = '10.10.20.48'\n",
    "PORT = 830\n",
    "USER = 'developer'\n",
    "PASS = 'C1sco12345'\n",
    "\n",
    "\n",
    "with manager.connect(host=HOST, port=PORT, username=USER, password=PASS, hostkey_verify=False) as m:\n",
    "    # Get the list of supported YANG models\n",
    "    schemas = m.server_capabilities\n",
    "    for schema in schemas:\n",
    "        print(schema)"
   ]
  },
  {
   "cell_type": "code",
   "execution_count": null,
   "id": "f67ae467",
   "metadata": {},
   "outputs": [],
   "source": [
    "from ncclient import manager\n",
    "from lxml import etree\n",
    "\n",
    "HOST = '10.10.20.48'\n",
    "PORT = 830\n",
    "USER = 'developer'\n",
    "PASS = 'your_password'\n",
    "\n",
    "# Define a filter to retrieve specific operational data\n",
    "filter_str = \"\"\"\n",
    "<interfaces xmlns=\"urn:ietf:params:xml:ns:yang:ietf-interfaces\">\n",
    "  <interface>\n",
    "    <name>GigabitEthernet1</name>\n",
    "  </interface>\n",
    "</interfaces>\n",
    "\"\"\"\n",
    "\n",
    "with manager.connect(host=HOST, port=PORT, username=USER, password=PASS, hostkey_verify=False) as m:\n",
    "    # Retrieve the operational data\n",
    "    result = m.get(filter=('subtree', etree.fromstring(filter_str)))\n",
    "\n",
    "    # Print the operational data\n",
    "    print(result.xml)"
   ]
  },
  {
   "cell_type": "code",
   "execution_count": null,
   "id": "3ddc7885",
   "metadata": {},
   "outputs": [],
   "source": [
    "from ncclient import manager\n",
    "from lxml import etree\n",
    "\n",
    "# Replace these variables with your device's details\n",
    "HOST = '10.10.20.48'\n",
    "PORT = 830\n",
    "USER = 'developer'\n",
    "PASS = 'C1sco12345'\n",
    "\n",
    "\n",
    "with manager.connect(host=HOST, port=PORT, username=USER, password=PASS, hostkey_verify=False) as m:\n",
    "    # Retrieve the running configuration\n",
    "    running_config = m.get_config('running') # Replace with 'startup' to get the startup config\n",
    "    print(running_config)"
   ]
  },
  {
   "cell_type": "code",
   "execution_count": null,
   "id": "6a689b33",
   "metadata": {},
   "outputs": [],
   "source": [
    "from ncclient import manager\n",
    "from ncclient.transport.errors import AuthenticationError, SessionCloseError\n",
    "\n",
    "device = {\n",
    "    'host': '10.10.20.48',\n",
    "    'port': 830,\n",
    "    'username': 'developer',\n",
    "    'password': 'C1sco12345',\n",
    "}\n",
    "\n",
    "config_data = \"\"\"\n",
    "<config xmlns=\"urn:ietf:params:xml:ns:netconf:base:1.0\">\n",
    "    <native xmlns=\"http://cisco.com/ns/yang/Cisco-IOS-XE-native\">\n",
    "        <interface>\n",
    "            <Loopback>\n",
    "                <name>10</name>\n",
    "                <description>My loopback interface</description>\n",
    "            </Loopback>\n",
    "        </interface>\n",
    "    </native>\n",
    "</config>\n",
    "\"\"\"\n",
    "\n",
    "# Create a NETCONF session to the device\n",
    "try:\n",
    "    with manager.connect(**device, hostkey_verify=False) as m:\n",
    "        response = m.edit_config(target='running', config=config_data)\n",
    "        print(response)\n",
    "except AuthenticationError as auth_err:\n",
    "    print(f\"Authentication failed: {auth_err}\")\n",
    "except SessionCloseError as close_err:\n",
    "    print(f\"Session close error: {close_err}\")\n",
    "except Exception as e:\n",
    "    print(f\"An error occurred: {e}\")"
   ]
  },
  {
   "cell_type": "code",
   "execution_count": null,
   "id": "53c3d1fc",
   "metadata": {},
   "outputs": [],
   "source": [
    "# Additional methods\n",
    "copy_config(target='running', source='running')\n",
    "delete_config(target='running')\n",
    "lock(target='running')\n",
    "unlock(target='running')\n",
    "close_session()\n",
    "kill_session(session_id)"
   ]
  },
  {
   "cell_type": "code",
   "execution_count": null,
   "id": "16650cfd",
   "metadata": {
    "vscode": {
     "languageId": "shellscript"
    }
   },
   "outputs": [],
   "source": [
    "pip install scrapli-netconf\n",
    "pip install xmltodict\n",
    "pip install rich"
   ]
  }
 ],
 "metadata": {
  "kernelspec": {
   "display_name": "Python 3 (ipykernel)",
   "language": "python",
   "name": "python3"
  },
  "language_info": {
   "codemirror_mode": {
    "name": "ipython",
    "version": 3
   },
   "file_extension": ".py",
   "mimetype": "text/x-python",
   "name": "python",
   "nbconvert_exporter": "python",
   "pygments_lexer": "ipython3",
   "version": "3.11.4"
  }
 },
 "nbformat": 4,
 "nbformat_minor": 5
}
